{
 "cells": [
  {
   "cell_type": "code",
   "execution_count": 9,
   "metadata": {
    "collapsed": true
   },
   "outputs": [
    {
     "data": {
      "text/plain": "                 High        Low       Open      Close    Volume  Adj Close\nDate                                                                       \n2012-01-03   5.900000   5.530000   5.788000   5.616000   4640500   5.616000\n2012-01-04   5.734000   5.500000   5.642000   5.542000   3150500   5.542000\n2012-01-05   5.586000   5.370000   5.552000   5.424000   5027500   5.424000\n2012-01-06   5.558000   5.282000   5.440000   5.382000   4931500   5.382000\n2012-01-09   5.498000   5.224000   5.400000   5.450000   4485000   5.450000\n...               ...        ...        ...        ...       ...        ...\n2019-12-11  71.438004  70.218002  70.375999  70.540001  34489000  70.540001\n2019-12-12  72.547997  70.646004  70.984001  71.935997  38819500  71.935997\n2019-12-13  73.042000  70.928001  72.209999  71.678001  32854500  71.678001\n2019-12-16  76.722000  72.500000  72.510002  76.300003  90871000  76.300003\n2019-12-17  77.099998  75.180000  75.797997  75.797997  42484000  75.797997\n\n[2003 rows x 6 columns]",
      "text/html": "<div>\n<style scoped>\n    .dataframe tbody tr th:only-of-type {\n        vertical-align: middle;\n    }\n\n    .dataframe tbody tr th {\n        vertical-align: top;\n    }\n\n    .dataframe thead th {\n        text-align: right;\n    }\n</style>\n<table border=\"1\" class=\"dataframe\">\n  <thead>\n    <tr style=\"text-align: right;\">\n      <th></th>\n      <th>High</th>\n      <th>Low</th>\n      <th>Open</th>\n      <th>Close</th>\n      <th>Volume</th>\n      <th>Adj Close</th>\n    </tr>\n    <tr>\n      <th>Date</th>\n      <th></th>\n      <th></th>\n      <th></th>\n      <th></th>\n      <th></th>\n      <th></th>\n    </tr>\n  </thead>\n  <tbody>\n    <tr>\n      <th>2012-01-03</th>\n      <td>5.900000</td>\n      <td>5.530000</td>\n      <td>5.788000</td>\n      <td>5.616000</td>\n      <td>4640500</td>\n      <td>5.616000</td>\n    </tr>\n    <tr>\n      <th>2012-01-04</th>\n      <td>5.734000</td>\n      <td>5.500000</td>\n      <td>5.642000</td>\n      <td>5.542000</td>\n      <td>3150500</td>\n      <td>5.542000</td>\n    </tr>\n    <tr>\n      <th>2012-01-05</th>\n      <td>5.586000</td>\n      <td>5.370000</td>\n      <td>5.552000</td>\n      <td>5.424000</td>\n      <td>5027500</td>\n      <td>5.424000</td>\n    </tr>\n    <tr>\n      <th>2012-01-06</th>\n      <td>5.558000</td>\n      <td>5.282000</td>\n      <td>5.440000</td>\n      <td>5.382000</td>\n      <td>4931500</td>\n      <td>5.382000</td>\n    </tr>\n    <tr>\n      <th>2012-01-09</th>\n      <td>5.498000</td>\n      <td>5.224000</td>\n      <td>5.400000</td>\n      <td>5.450000</td>\n      <td>4485000</td>\n      <td>5.450000</td>\n    </tr>\n    <tr>\n      <th>...</th>\n      <td>...</td>\n      <td>...</td>\n      <td>...</td>\n      <td>...</td>\n      <td>...</td>\n      <td>...</td>\n    </tr>\n    <tr>\n      <th>2019-12-11</th>\n      <td>71.438004</td>\n      <td>70.218002</td>\n      <td>70.375999</td>\n      <td>70.540001</td>\n      <td>34489000</td>\n      <td>70.540001</td>\n    </tr>\n    <tr>\n      <th>2019-12-12</th>\n      <td>72.547997</td>\n      <td>70.646004</td>\n      <td>70.984001</td>\n      <td>71.935997</td>\n      <td>38819500</td>\n      <td>71.935997</td>\n    </tr>\n    <tr>\n      <th>2019-12-13</th>\n      <td>73.042000</td>\n      <td>70.928001</td>\n      <td>72.209999</td>\n      <td>71.678001</td>\n      <td>32854500</td>\n      <td>71.678001</td>\n    </tr>\n    <tr>\n      <th>2019-12-16</th>\n      <td>76.722000</td>\n      <td>72.500000</td>\n      <td>72.510002</td>\n      <td>76.300003</td>\n      <td>90871000</td>\n      <td>76.300003</td>\n    </tr>\n    <tr>\n      <th>2019-12-17</th>\n      <td>77.099998</td>\n      <td>75.180000</td>\n      <td>75.797997</td>\n      <td>75.797997</td>\n      <td>42484000</td>\n      <td>75.797997</td>\n    </tr>\n  </tbody>\n</table>\n<p>2003 rows × 6 columns</p>\n</div>"
     },
     "execution_count": 9,
     "metadata": {},
     "output_type": "execute_result"
    }
   ],
   "source": [
    "import math\n",
    "import pandas_datareader as web\n",
    "import numpy as np\n",
    "import pandas as pd\n",
    "from sklearn.preprocessing import MinMaxScaler\n",
    "import matplotlib.pyplot as plt\n",
    "plt.style.use('fivethirtyeight')\n",
    "\n",
    "#Get the stock quote\n",
    "df = web.DataReader('TSLA', data_source='yahoo', start='2012-01-01', end='2019-12-17')\n",
    "\n",
    "#Show the data\n",
    "df"
   ]
  },
  {
   "cell_type": "code",
   "execution_count": 10,
   "outputs": [],
   "source": [
    "from datetime import datetime\n",
    "import re\n",
    "import json\n",
    "import csv\n",
    "from io import StringIO\n",
    "import csvfile as csvfile\n",
    "from bs4 import BeautifulSoup\n",
    "import requests\n",
    "\n",
    "url_stats = 'https://uk.finance.yahoo.com/quote/{}/key-statistics?p={}'\n",
    "companies = ['TSLA', 'MSFT', 'AAPL', 'AMZN', 'FB', 'GOOG', 'NFLX', 'SPOT', 'ZM', 'DBX', 'KO', 'DIS', 'PEP', 'ADBE', 'SONO', 'AMD', 'NVDA', 'INTC', 'NKE', 'NOK']\n",
    "stock = 'TSLA'\n",
    "\n",
    "def datetime_to_float(d):\n",
    "    return d.timestamp()\n",
    "\n",
    "#Statistics\n",
    "response = requests.get(url_stats.format(stock, stock))\n",
    "soup = BeautifulSoup(response.text, 'html.parser')\n",
    "pattern = re.compile(r'\\s--\\sData\\s--\\s')\n",
    "script_data = soup.find('script', text=pattern).contents[0]\n",
    "start = script_data.find(\"context\")-2\n",
    "json_data = json.loads(script_data[start:-12])\n",
    "\n",
    "now = datetime.today().strftime('%Y-%m-%d')\n",
    "# print(now)\n",
    "\n",
    "#Historical Stock Data\n",
    "stock_url = 'https://query1.finance.yahoo.com/v7/finance/download/{}?'\n",
    "\n",
    "params = {\n",
    "    'start' : now,\n",
    "    'interval' : '1d',\n",
    "    'range' : '1y',\n",
    "    'events' : 'history'\n",
    "}\n",
    "\n",
    "# response = requests.get(stock_url.format(stock), params=params)\n",
    "# response.text\n",
    "\n",
    "for s in companies:\n",
    "    response = requests.get(stock_url.format(s), params=params)\n",
    "    response.text\n",
    "\n",
    "    file = StringIO(response.text)\n",
    "    reader = csv.DictReader(file)\n",
    "    with open('./csvs/'+s+'.csv', 'w', newline='') as f:\n",
    "        fieldnames = ['Date', 'Open', 'High', 'Low', 'Close', 'Adj Close', 'Volume']\n",
    "        writer = csv.DictWriter(f, fieldnames=fieldnames)\n",
    "\n",
    "        #writer.writeheader() #Not needed\n",
    "        for row in reader:\n",
    "            # writer.writerow({'Date': datetime_to_float(datetime.strptime(row['Date'], \"%Y-%m-%d\")), 'Open': row['Open'], 'High': row['High'], 'Low': row['Low'], 'Close': row['Close'], 'Adj Close': row['Adj Close'], 'Volume': row['Volume']})\n",
    "            writer.writerow({'Date': row['Date'], 'Open': row['Open'], 'High': row['High'], 'Low': row['Low'], 'Close': row['Close'], 'Adj Close': row['Adj Close'], 'Volume': row['Volume']})\n",
    "\n",
    "# string_date = \"2020-01-10\"\n",
    "# datetimeObj = datetime.strptime(row['Date'], \"%Y-%m-%d\")\n",
    "# print(datetimeObj.date())\n",
    "# print(datetime_to_float(datetimeObj))"
   ],
   "metadata": {
    "collapsed": false,
    "pycharm": {
     "name": "#%%\n"
    }
   }
  }
 ],
 "metadata": {
  "kernelspec": {
   "display_name": "Python 3",
   "language": "python",
   "name": "python3"
  },
  "language_info": {
   "codemirror_mode": {
    "name": "ipython",
    "version": 2
   },
   "file_extension": ".py",
   "mimetype": "text/x-python",
   "name": "python",
   "nbconvert_exporter": "python",
   "pygments_lexer": "ipython2",
   "version": "2.7.6"
  }
 },
 "nbformat": 4,
 "nbformat_minor": 0
}