{
 "cells": [
  {
   "cell_type": "code",
   "execution_count": 1061,
   "metadata": {
    "collapsed": true
   },
   "outputs": [],
   "source": [
    "import pandas as pd\n",
    "import numpy as np\n",
    "import datetime\n",
    "import re\n",
    "import json\n",
    "import csv\n",
    "from io import StringIO\n",
    "import csvfile as csvfile\n",
    "from bs4 import BeautifulSoup\n",
    "import requests\n",
    "from sklearn.model_selection import train_test_split\n",
    "from statsmodels.tsa.stattools import adfuller\n",
    "from pmdarima import auto_arima\n",
    "import matplotlib.pyplot as plt\n",
    "from sklearn.metrics import mean_squared_error\n",
    "from math import sqrt\n",
    "from statsmodels.tsa.arima_model import ARIMA\n",
    "\n",
    "plt.style.use('fivethirtyeight')\n",
    "\n",
    "#ignore harmless warnings\n",
    "import warnings\n",
    "\n",
    "warnings.filterwarnings(\"ignore\")\n",
    "\n",
    "url_stats = 'https://uk.finance.yahoo.com/quote/{}/key-statistics?p={}'\n",
    "companies = ['TSLA', 'MSFT', 'AAPL', 'AMZN', 'FB', 'GOOG', 'NFLX', 'SPOT', 'ZM', 'DBX', 'KO', 'DIS', 'PEP', 'ADBE', 'SONO', 'AMD', 'NVDA', 'INTC', 'NKE', 'NOK']\n",
    "stock = 'TSLA'\n",
    "\n",
    "def datetime_to_float(d):\n",
    "    return d.timestamp()"
   ]
  },
  {
   "cell_type": "code",
   "execution_count": 1062,
   "outputs": [],
   "source": [
    "def getCSVS():\n",
    "    #Statistics\n",
    "    response = requests.get(url_stats.format(stock, stock))\n",
    "    soup = BeautifulSoup(response.text, 'html.parser')\n",
    "    pattern = re.compile(r'\\s--\\sData\\s--\\s')\n",
    "    script_data = soup.find('script', text=pattern).contents[0]\n",
    "    start = script_data.find(\"context\")-2\n",
    "    json_data = json.loads(script_data[start:-12])\n",
    "\n",
    "    now = datetime.datetime.today().strftime('%Y-%m-%d')\n",
    "    # print(now)\n",
    "\n",
    "    #Historical Stock Data\n",
    "    stock_url = 'https://query1.finance.yahoo.com/v7/finance/download/{}?'\n",
    "\n",
    "    params = {\n",
    "        'start' : now,\n",
    "        'interval' : '1d',\n",
    "        'range' : '5y',\n",
    "        'events' : 'history'\n",
    "    }\n",
    "\n",
    "    # response = requests.get(stock_url.format(stock), params=params)\n",
    "    # response.text\n",
    "\n",
    "    for s in companies:\n",
    "        response = requests.get(stock_url.format(s), params=params)\n",
    "        response.text\n",
    "\n",
    "        file = StringIO(response.text)\n",
    "        reader = csv.DictReader(file)\n",
    "        with open('./csvs/'+s+'.csv', 'w', newline='') as f:\n",
    "            fieldnames = ['Date', 'Open', 'High', 'Low', 'Close', 'Adj Close', 'Volume']\n",
    "            writer = csv.DictWriter(f, fieldnames=fieldnames)\n",
    "\n",
    "            writer.writeheader()\n",
    "            for row in reader:\n",
    "                # writer.writerow({'Date': datetime_to_float(datetime.strptime(row['Date'], \"%Y-%m-%d\")), 'Open': row['Open'], 'High': row['High'], 'Low': row['Low'], 'Close': row['Close'], 'Adj Close': row['Adj Close'], 'Volume': row['Volume']})\n",
    "                writer.writerow({'Date': row['Date'], 'Open': row['Open'], 'High': row['High'], 'Low': row['Low'], 'Close': row['Close'], 'Adj Close': row['Adj Close'], 'Volume': row['Volume']})\n",
    "\n",
    "getCSVS()"
   ],
   "metadata": {
    "collapsed": false,
    "pycharm": {
     "name": "#%%\n"
    }
   }
  },
  {
   "cell_type": "code",
   "execution_count": 1063,
   "outputs": [
    {
     "name": "stdout",
     "output_type": "stream",
     "text": [
      "(1259, 6)\n",
      "                 Open       High        Low      Close  Adj Close    Volume\n",
      "Date                                                                       \n",
      "2016-01-08  43.571999  44.088001  42.153999  42.200001  42.200001  18140500\n",
      "2016-01-11  42.801998  42.889999  40.599998  41.570000  41.570000  20457000\n",
      "2016-01-12  42.320000  42.748001  41.062000  41.993999  41.993999  15459500\n",
      "2016-01-13  42.402000  42.529999  40.000000  40.062000  40.062000  20632000\n",
      "2016-01-14  40.442001  42.000000  38.675999  41.236000  41.236000  32453500\n"
     ]
    }
   ],
   "source": [
    "#Read data\n",
    "\n",
    "stock_df=pd.read_csv('csvs/'+stock+\".csv\", index_col='Date', parse_dates=True)\n",
    "print(stock_df.shape)\n",
    "print(stock_df.head())"
   ],
   "metadata": {
    "collapsed": false,
    "pycharm": {
     "name": "#%%\n"
    }
   }
  },
  {
   "cell_type": "code",
   "execution_count": 1064,
   "outputs": [
    {
     "name": "stdout",
     "output_type": "stream",
     "text": [
      "Empty DataFrame\n",
      "Columns: [Open, High, Low, Close, Adj Close, Volume]\n",
      "Index: []\n"
     ]
    }
   ],
   "source": [
    "missing_data = stock_df[stock_df.isna().any(axis=1)]\n",
    "print(missing_data)"
   ],
   "metadata": {
    "collapsed": false,
    "pycharm": {
     "name": "#%%\n"
    }
   }
  },
  {
   "cell_type": "code",
   "execution_count": 1065,
   "outputs": [
    {
     "name": "stdout",
     "output_type": "stream",
     "text": [
      "                  Open        High         Low       Close   Adj Close  \\\n",
      "Date                                                                     \n",
      "2016-01-08   43.571999   44.088001   42.153999   42.200001   42.200001   \n",
      "2016-01-11   42.801998   42.889999   40.599998   41.570000   41.570000   \n",
      "2016-01-12   42.320000   42.748001   41.062000   41.993999   41.993999   \n",
      "2016-01-13   42.402000   42.529999   40.000000   40.062000   40.062000   \n",
      "2016-01-14   40.442001   42.000000   38.675999   41.236000   41.236000   \n",
      "...                ...         ...         ...         ...         ...   \n",
      "2020-12-31  699.989990  718.719971  691.119995  705.669983  705.669983   \n",
      "2021-01-04  719.460022  744.489990  717.190002  729.770020  729.770020   \n",
      "2021-01-05  723.659973  740.840027  719.200012  735.109985  735.109985   \n",
      "2021-01-06  758.489990  774.000000  749.099976  755.979980  755.979980   \n",
      "2021-01-07  777.630005  816.989990  775.200012  816.039978  816.039978   \n",
      "\n",
      "              Volume  \n",
      "Date                  \n",
      "2016-01-08  18140500  \n",
      "2016-01-11  20457000  \n",
      "2016-01-12  15459500  \n",
      "2016-01-13  20632000  \n",
      "2016-01-14  32453500  \n",
      "...              ...  \n",
      "2020-12-31  49570900  \n",
      "2021-01-04  48638200  \n",
      "2021-01-05  32245200  \n",
      "2021-01-06  44457500  \n",
      "2021-01-07  49129918  \n",
      "\n",
      "[1259 rows x 6 columns]\n",
      "                 Close\n",
      "Date                  \n",
      "2016-01-08   42.200001\n",
      "2016-01-11   41.570000\n",
      "2016-01-12   41.993999\n",
      "2016-01-13   40.062000\n",
      "2016-01-14   41.236000\n",
      "...                ...\n",
      "2020-12-31  705.669983\n",
      "2021-01-04  729.770020\n",
      "2021-01-05  735.109985\n",
      "2021-01-06  755.979980\n",
      "2021-01-07  816.039978\n",
      "\n",
      "[1259 rows x 1 columns]\n"
     ]
    }
   ],
   "source": [
    "print(stock_df)\n",
    "stock_df = stock_df.drop(['Open', 'High', 'Low', 'Adj Close', 'Volume'], axis=1)\n",
    "print(stock_df)"
   ],
   "metadata": {
    "collapsed": false,
    "pycharm": {
     "name": "#%%\n"
    }
   }
  },
  {
   "cell_type": "code",
   "execution_count": 1066,
   "outputs": [
    {
     "name": "stdout",
     "output_type": "stream",
     "text": [
      "                 Close\n",
      "Date                  \n",
      "2016-01-08   42.200001\n",
      "2016-01-11   41.570000\n",
      "2016-01-12   41.993999\n",
      "2016-01-13   40.062000\n",
      "2016-01-14   41.236000\n",
      "...                ...\n",
      "2020-12-31  705.669983\n",
      "2021-01-04  729.770020\n",
      "2021-01-05  735.109985\n",
      "2021-01-06  755.979980\n",
      "2021-01-07  816.039978\n",
      "\n",
      "[1259 rows x 1 columns]\n"
     ]
    }
   ],
   "source": [
    "stock_df = stock_df.applymap(np.float)\n",
    "print(stock_df)"
   ],
   "metadata": {
    "collapsed": false,
    "pycharm": {
     "name": "#%%\n"
    }
   }
  },
  {
   "cell_type": "code",
   "execution_count": 1067,
   "outputs": [
    {
     "data": {
      "text/plain": "<AxesSubplot:xlabel='Date'>"
     },
     "execution_count": 1067,
     "metadata": {},
     "output_type": "execute_result"
    },
    {
     "data": {
      "text/plain": "<Figure size 864x360 with 1 Axes>",
      "image/png": "[encoded data removed]"
     },
     "metadata": {},
     "output_type": "display_data"
    }
   ],
   "source": [
    "stock_df['Close'].plot(figsize=(12,5))"
   ],
   "metadata": {
    "collapsed": false,
    "pycharm": {
     "name": "#%%\n"
    }
   }
  },
  {
   "cell_type": "code",
   "execution_count": 1068,
   "outputs": [],
   "source": [
    "def ad_test(dataset):\n",
    "    dftest = adfuller(dataset, autolag= 'AIC')\n",
    "    print(\"1. ADF : \", dftest[0])\n",
    "    print(\"2. P-Value : \", dftest[1])\n",
    "    print(\"3. Num Of Lags : \", dftest[2])\n",
    "    print(\"4. Num of observations used for adf regression and critical values calculation : \", dftest[3])\n",
    "    print(\"5. Critical Values : \")\n",
    "    for key, val in dftest[4].items():\n",
    "        print(\"\\t\",key, \": \", val)"
   ],
   "metadata": {
    "collapsed": false,
    "pycharm": {
     "name": "#%%\n"
    }
   }
  },
  {
   "cell_type": "code",
   "execution_count": 1069,
   "outputs": [
    {
     "name": "stdout",
     "output_type": "stream",
     "text": [
      "1. ADF :  6.638991830748495\n",
      "2. P-Value :  1.0\n",
      "3. Num Of Lags :  23\n",
      "4. Num of observations used for adf regression and critical values calculation :  1235\n",
      "5. Critical Values : \n",
      "\t 1% :  -3.4356560275160835\n",
      "\t 5% :  -2.8638831211270817\n",
      "\t 10% :  -2.568017509711682\n"
     ]
    }
   ],
   "source": [
    "ad_test(stock_df['Close'])"
   ],
   "metadata": {
    "collapsed": false,
    "pycharm": {
     "name": "#%%\n"
    }
   }
  },
  {
   "cell_type": "code",
   "execution_count": 1070,
   "outputs": [
    {
     "name": "stdout",
     "output_type": "stream",
     "text": [
      "Performing stepwise search to minimize aic\n",
      " ARIMA(2,2,2)(0,0,0)[0]             : AIC=8651.064, Time=0.33 sec\n",
      " ARIMA(0,2,0)(0,0,0)[0]             : AIC=9511.129, Time=0.02 sec\n",
      " ARIMA(1,2,0)(0,0,0)[0]             : AIC=9113.100, Time=0.04 sec\n",
      " ARIMA(0,2,1)(0,0,0)[0]             : AIC=8648.827, Time=0.07 sec\n",
      " ARIMA(1,2,1)(0,0,0)[0]             : AIC=8649.325, Time=0.12 sec\n",
      " ARIMA(0,2,2)(0,0,0)[0]             : AIC=8649.373, Time=0.12 sec\n",
      " ARIMA(1,2,2)(0,0,0)[0]             : AIC=8652.058, Time=0.29 sec\n",
      " ARIMA(0,2,1)(0,0,0)[0] intercept   : AIC=8648.719, Time=0.22 sec\n",
      " ARIMA(0,2,0)(0,0,0)[0] intercept   : AIC=9513.103, Time=0.02 sec\n",
      " ARIMA(1,2,1)(0,0,0)[0] intercept   : AIC=8649.236, Time=0.36 sec\n",
      " ARIMA(0,2,2)(0,0,0)[0] intercept   : AIC=8649.284, Time=0.39 sec\n",
      " ARIMA(1,2,0)(0,0,0)[0] intercept   : AIC=9115.051, Time=0.09 sec\n",
      " ARIMA(1,2,2)(0,0,0)[0] intercept   : AIC=8651.948, Time=0.75 sec\n",
      "\n",
      "Best model:  ARIMA(0,2,1)(0,0,0)[0] intercept\n",
      "Total fit time: 2.834 seconds\n"
     ]
    },
    {
     "data": {
      "text/plain": "<class 'statsmodels.iolib.summary.Summary'>\n\"\"\"\n                               SARIMAX Results                                \n==============================================================================\nDep. Variable:                      y   No. Observations:                 1259\nModel:               SARIMAX(0, 2, 1)   Log Likelihood               -4321.360\nDate:                Thu, 07 Jan 2021   AIC                           8648.719\nTime:                        21:34:08   BIC                           8664.129\nSample:                             0   HQIC                          8654.510\n                               - 1259                                         \nCovariance Type:                  opg                                         \n==============================================================================\n                 coef    std err          z      P>|z|      [0.025      0.975]\n------------------------------------------------------------------------------\nintercept      0.0046      0.004      1.156      0.248      -0.003       0.012\nma.L1         -0.9863      0.004   -251.247      0.000      -0.994      -0.979\nsigma2        56.5387      0.561    100.817      0.000      55.440      57.638\n===================================================================================\nLjung-Box (L1) (Q):                   1.45   Jarque-Bera (JB):             52736.18\nProb(Q):                              0.23   Prob(JB):                         0.00\nHeteroskedasticity (H):             111.82   Skew:                            -0.71\nProb(H) (two-sided):                  0.00   Kurtosis:                        34.70\n===================================================================================\n\nWarnings:\n[1] Covariance matrix calculated using the outer product of gradients (complex-step).\n\"\"\"",
      "text/html": "<table class=\"simpletable\">\n<caption>SARIMAX Results</caption>\n<tr>\n  <th>Dep. Variable:</th>           <td>y</td>        <th>  No. Observations:  </th>   <td>1259</td>   \n</tr>\n<tr>\n  <th>Model:</th>           <td>SARIMAX(0, 2, 1)</td> <th>  Log Likelihood     </th> <td>-4321.360</td>\n</tr>\n<tr>\n  <th>Date:</th>            <td>Thu, 07 Jan 2021</td> <th>  AIC                </th> <td>8648.719</td> \n</tr>\n<tr>\n  <th>Time:</th>                <td>21:34:08</td>     <th>  BIC                </th> <td>8664.129</td> \n</tr>\n<tr>\n  <th>Sample:</th>                  <td>0</td>        <th>  HQIC               </th> <td>8654.510</td> \n</tr>\n<tr>\n  <th></th>                      <td> - 1259</td>     <th>                     </th>     <td> </td>    \n</tr>\n<tr>\n  <th>Covariance Type:</th>        <td>opg</td>       <th>                     </th>     <td> </td>    \n</tr>\n</table>\n<table class=\"simpletable\">\n<tr>\n      <td></td>         <th>coef</th>     <th>std err</th>      <th>z</th>      <th>P>|z|</th>  <th>[0.025</th>    <th>0.975]</th>  \n</tr>\n<tr>\n  <th>intercept</th> <td>    0.0046</td> <td>    0.004</td> <td>    1.156</td> <td> 0.248</td> <td>   -0.003</td> <td>    0.012</td>\n</tr>\n<tr>\n  <th>ma.L1</th>     <td>   -0.9863</td> <td>    0.004</td> <td> -251.247</td> <td> 0.000</td> <td>   -0.994</td> <td>   -0.979</td>\n</tr>\n<tr>\n  <th>sigma2</th>    <td>   56.5387</td> <td>    0.561</td> <td>  100.817</td> <td> 0.000</td> <td>   55.440</td> <td>   57.638</td>\n</tr>\n</table>\n<table class=\"simpletable\">\n<tr>\n  <th>Ljung-Box (L1) (Q):</th>      <td>1.45</td>  <th>  Jarque-Bera (JB):  </th> <td>52736.18</td>\n</tr>\n<tr>\n  <th>Prob(Q):</th>                 <td>0.23</td>  <th>  Prob(JB):          </th>   <td>0.00</td>  \n</tr>\n<tr>\n  <th>Heteroskedasticity (H):</th> <td>111.82</td> <th>  Skew:              </th>   <td>-0.71</td> \n</tr>\n<tr>\n  <th>Prob(H) (two-sided):</th>     <td>0.00</td>  <th>  Kurtosis:          </th>   <td>34.70</td> \n</tr>\n</table><br/><br/>Warnings:<br/>[1] Covariance matrix calculated using the outer product of gradients (complex-step)."
     },
     "execution_count": 1070,
     "metadata": {},
     "output_type": "execute_result"
    }
   ],
   "source": [
    "#Stepwise to minimse aic value\n",
    "stepwise_fit = auto_arima(stock_df, trace=True, suppress_warnings=True)\n",
    "stepwise_fit.summary()"
   ],
   "metadata": {
    "collapsed": false,
    "pycharm": {
     "name": "#%%\n"
    }
   }
  },
  {
   "cell_type": "code",
   "execution_count": 1071,
   "outputs": [
    {
     "name": "stdout",
     "output_type": "stream",
     "text": [
      "(881, 1)\n",
      "(378, 1)\n"
     ]
    }
   ],
   "source": [
    "y_train, y_test = train_test_split(stock_df, test_size=0.1)\n",
    "print(y_train.shape)\n",
    "print(y_test.shape)"
   ],
   "metadata": {
    "collapsed": false,
    "pycharm": {
     "name": "#%%\n"
    }
   }
  },
  {
   "cell_type": "code",
   "execution_count": 1072,
   "outputs": [
    {
     "data": {
      "text/plain": "<class 'statsmodels.iolib.summary.Summary'>\n\"\"\"\n                             ARIMA Model Results                              \n==============================================================================\nDep. Variable:               D2.Close   No. Observations:                  879\nModel:                 ARIMA(0, 2, 1)   Log Likelihood               -5801.566\nMethod:                       css-mle   S.D. of innovations            177.220\nDate:                Thu, 07 Jan 2021   AIC                          11609.133\nTime:                        21:34:08   BIC                          11623.469\nSample:                             2   HQIC                         11614.616\n                                                                              \n==================================================================================\n                     coef    std err          z      P>|z|      [0.025      0.975]\n----------------------------------------------------------------------------------\nconst             -0.0007      0.024     -0.030      0.976      -0.047       0.045\nma.L1.D2.Close    -1.0000      0.003   -358.616      0.000      -1.005      -0.995\n                                    Roots                                    \n=============================================================================\n                  Real          Imaginary           Modulus         Frequency\n-----------------------------------------------------------------------------\nMA.1            1.0000           +0.0000j            1.0000            0.0000\n-----------------------------------------------------------------------------\n\"\"\"",
      "text/html": "<table class=\"simpletable\">\n<caption>ARIMA Model Results</caption>\n<tr>\n  <th>Dep. Variable:</th>     <td>D2.Close</td>     <th>  No. Observations:  </th>    <td>879</td>   \n</tr>\n<tr>\n  <th>Model:</th>          <td>ARIMA(0, 2, 1)</td>  <th>  Log Likelihood     </th> <td>-5801.566</td>\n</tr>\n<tr>\n  <th>Method:</th>             <td>css-mle</td>     <th>  S.D. of innovations</th>  <td>177.220</td> \n</tr>\n<tr>\n  <th>Date:</th>          <td>Thu, 07 Jan 2021</td> <th>  AIC                </th> <td>11609.133</td>\n</tr>\n<tr>\n  <th>Time:</th>              <td>21:34:08</td>     <th>  BIC                </th> <td>11623.469</td>\n</tr>\n<tr>\n  <th>Sample:</th>                <td>2</td>        <th>  HQIC               </th> <td>11614.616</td>\n</tr>\n<tr>\n  <th></th>                       <td> </td>        <th>                     </th>     <td> </td>    \n</tr>\n</table>\n<table class=\"simpletable\">\n<tr>\n         <td></td>           <th>coef</th>     <th>std err</th>      <th>z</th>      <th>P>|z|</th>  <th>[0.025</th>    <th>0.975]</th>  \n</tr>\n<tr>\n  <th>const</th>          <td>   -0.0007</td> <td>    0.024</td> <td>   -0.030</td> <td> 0.976</td> <td>   -0.047</td> <td>    0.045</td>\n</tr>\n<tr>\n  <th>ma.L1.D2.Close</th> <td>   -1.0000</td> <td>    0.003</td> <td> -358.616</td> <td> 0.000</td> <td>   -1.005</td> <td>   -0.995</td>\n</tr>\n</table>\n<table class=\"simpletable\">\n<caption>Roots</caption>\n<tr>\n    <td></td>   <th>            Real</th>  <th>         Imaginary</th> <th>         Modulus</th>  <th>        Frequency</th>\n</tr>\n<tr>\n  <th>MA.1</th> <td>           1.0000</td> <td>          +0.0000j</td> <td>           1.0000</td> <td>           0.0000</td>\n</tr>\n</table>"
     },
     "execution_count": 1072,
     "metadata": {},
     "output_type": "execute_result"
    }
   ],
   "source": [
    "model=ARIMA(y_train['Close'], order=(0,2,1))\n",
    "model=model.fit()\n",
    "model.summary()"
   ],
   "metadata": {
    "collapsed": false,
    "pycharm": {
     "name": "#%%\n"
    }
   }
  },
  {
   "cell_type": "code",
   "execution_count": 1073,
   "outputs": [
    {
     "name": "stdout",
     "output_type": "stream",
     "text": [
      "Date\n",
      "2019-07-11     46.483929\n",
      "2019-07-12     46.197146\n",
      "2019-07-15     45.909653\n",
      "2019-07-16     45.621448\n",
      "2019-07-17     45.332533\n",
      "                 ...    \n",
      "2020-12-31   -109.817620\n",
      "2021-01-04   -110.369626\n",
      "2021-01-05   -110.922344\n",
      "2021-01-06   -111.475773\n",
      "2021-01-07   -112.029913\n",
      "Length: 378, dtype: float64\n"
     ]
    }
   ],
   "source": [
    "#Make predictions on Test Set\n",
    "start=len(y_train)\n",
    "end=len(y_train)+len(y_test)-1\n",
    "pred=model.predict(start=start,end=end, typ='levels')\n",
    "pred.index=stock_df.index[start:end+1]\n",
    "print(pred)"
   ],
   "metadata": {
    "collapsed": false,
    "pycharm": {
     "name": "#%%\n"
    }
   }
  },
  {
   "cell_type": "code",
   "execution_count": 1074,
   "outputs": [
    {
     "name": "stdout",
     "output_type": "stream",
     "text": [
      "107.49995241269842\n",
      "187.7177748391985\n"
     ]
    }
   ],
   "source": [
    "#Dataset Mean\n",
    "print(y_test['Close'].mean())\n",
    "rmse = sqrt(mean_squared_error(pred, y_test['Close']))\n",
    "print(rmse)"
   ],
   "metadata": {
    "collapsed": false,
    "pycharm": {
     "name": "#%%\n"
    }
   }
  },
  {
   "cell_type": "code",
   "execution_count": 1075,
   "outputs": [
    {
     "name": "stdout",
     "output_type": "stream",
     "text": [
      "Date\n",
      "2019-07-11     46.483929\n",
      "2019-07-12     46.197146\n",
      "2019-07-15     45.909653\n",
      "2019-07-16     45.621448\n",
      "2019-07-17     45.332533\n",
      "                 ...    \n",
      "2020-12-31   -109.817620\n",
      "2021-01-04   -110.369626\n",
      "2021-01-05   -110.922344\n",
      "2021-01-06   -111.475773\n",
      "2021-01-07   -112.029913\n",
      "Length: 378, dtype: float64\n"
     ]
    },
    {
     "data": {
      "text/plain": "<AxesSubplot:xlabel='Date'>"
     },
     "execution_count": 1075,
     "metadata": {},
     "output_type": "execute_result"
    },
    {
     "data": {
      "text/plain": "<Figure size 432x288 with 1 Axes>",
      "image/png": "[encoded data removed]"
     },
     "metadata": {},
     "output_type": "display_data"
    }
   ],
   "source": [
    "print(pred)\n",
    "pred.plot(legend=True)"
   ],
   "metadata": {
    "collapsed": false,
    "pycharm": {
     "name": "#%%\n"
    }
   }
  },
  {
   "cell_type": "code",
   "execution_count": 1076,
   "outputs": [
    {
     "name": "stdout",
     "output_type": "stream",
     "text": [
      "                 Close\n",
      "Date                  \n",
      "2020-12-31  705.669983\n",
      "2021-01-04  729.770020\n",
      "2021-01-05  735.109985\n",
      "2021-01-06  755.979980\n",
      "2021-01-07  816.039978\n"
     ]
    }
   ],
   "source": [
    "model2=ARIMA(stock_df['Close'], order=(3,1,3))\n",
    "model2=model2.fit()\n",
    "print(stock_df.tail())"
   ],
   "metadata": {
    "collapsed": false,
    "pycharm": {
     "name": "#%%\n"
    }
   }
  },
  {
   "cell_type": "code",
   "execution_count": 1077,
   "outputs": [
    {
     "name": "stdout",
     "output_type": "stream",
     "text": [
      "2021-02-06\n",
      "DatetimeIndex(['2021-01-07 21:34:08.914254', '2021-01-08 21:34:08.914254',\n",
      "               '2021-01-09 21:34:08.914254', '2021-01-10 21:34:08.914254',\n",
      "               '2021-01-11 21:34:08.914254', '2021-01-12 21:34:08.914254',\n",
      "               '2021-01-13 21:34:08.914254', '2021-01-14 21:34:08.914254',\n",
      "               '2021-01-15 21:34:08.914254', '2021-01-16 21:34:08.914254',\n",
      "               '2021-01-17 21:34:08.914254', '2021-01-18 21:34:08.914254',\n",
      "               '2021-01-19 21:34:08.914254', '2021-01-20 21:34:08.914254',\n",
      "               '2021-01-21 21:34:08.914254', '2021-01-22 21:34:08.914254',\n",
      "               '2021-01-23 21:34:08.914254', '2021-01-24 21:34:08.914254',\n",
      "               '2021-01-25 21:34:08.914254', '2021-01-26 21:34:08.914254',\n",
      "               '2021-01-27 21:34:08.914254', '2021-01-28 21:34:08.914254',\n",
      "               '2021-01-29 21:34:08.914254', '2021-01-30 21:34:08.914254',\n",
      "               '2021-01-31 21:34:08.914254', '2021-02-01 21:34:08.914254',\n",
      "               '2021-02-02 21:34:08.914254', '2021-02-03 21:34:08.914254',\n",
      "               '2021-02-04 21:34:08.914254', '2021-02-05 21:34:08.914254',\n",
      "               '2021-02-06 21:34:08.914254'],\n",
      "              dtype='datetime64[ns]', freq='D')\n",
      "2021-01-07    817.832985\n",
      "2021-01-08    824.031178\n",
      "2021-01-09    831.735169\n",
      "2021-01-10    833.284166\n",
      "2021-01-11    832.342070\n",
      "2021-01-12    829.217459\n",
      "2021-01-13    828.786894\n",
      "2021-01-14    829.452651\n",
      "2021-01-15    831.897187\n",
      "2021-01-16    833.217988\n",
      "2021-01-17    834.220544\n",
      "2021-01-18    834.021107\n",
      "2021-01-19    834.287291\n",
      "2021-01-20    834.520845\n",
      "2021-01-21    835.492815\n",
      "2021-01-22    836.255502\n",
      "2021-01-23    837.166554\n",
      "2021-01-24    837.647462\n",
      "2021-01-25    838.242129\n",
      "2021-01-26    838.679941\n",
      "2021-01-27    839.362084\n",
      "2021-01-28    839.968168\n",
      "2021-01-29    840.701810\n",
      "2021-01-30    841.296962\n",
      "2021-01-31    841.949047\n",
      "2021-02-01    842.508859\n",
      "2021-02-02    843.148557\n",
      "2021-02-03    843.744700\n",
      "2021-02-04    844.403462\n",
      "2021-02-05    845.014666\n",
      "2021-02-06    845.658523\n",
      "Name: Prediction, dtype: float64\n"
     ]
    }
   ],
   "source": [
    "def getPred(numDays):\n",
    "    currentDate = datetime.datetime.now()\n",
    "    predDate = currentDate + datetime.timedelta(days=numDays)\n",
    "    print(predDate.strftime('%Y-%m-%d'))\n",
    "\n",
    "    index_future_dates=pd.date_range(start=currentDate,end=predDate)\n",
    "    print(index_future_dates)\n",
    "\n",
    "    pred=model2.predict(start=len(stock_df),end=len(stock_df)+numDays,typ='levels').rename('Prediction')\n",
    "    pred.index=index_future_dates.strftime('%Y-%m-%d')\n",
    "    print(pred)\n",
    "\n",
    "    return pred\n",
    "\n",
    "pred = getPred(30)"
   ],
   "metadata": {
    "collapsed": false,
    "pycharm": {
     "name": "#%%\n"
    }
   }
  },
  {
   "cell_type": "code",
   "execution_count": 1078,
   "outputs": [
    {
     "data": {
      "text/plain": "<Figure size 1152x576 with 1 Axes>",
      "image/png": "[encoded data removed]"
     },
     "metadata": {},
     "output_type": "display_data"
    }
   ],
   "source": [
    "# pred.plot(figsize=(12,5), legend=True)\n",
    "plt.figure(figsize=(16,8))\n",
    "plt.title(stock+' Closing Price History')\n",
    "plt.plot(pred)\n",
    "plt.xlabel('Date', fontsize=18)\n",
    "plt.xticks(rotation=90)\n",
    "plt.ylabel('Close Price USD ($)', fontsize=18)\n",
    "plt.legend(['Train'], loc='lower right')\n",
    "plt.show()\n"
   ],
   "metadata": {
    "collapsed": false,
    "pycharm": {
     "name": "#%%\n"
    }
   }
  }
 ],
 "metadata": {
  "kernelspec": {
   "display_name": "Python 3",
   "language": "python",
   "name": "python3"
  },
  "language_info": {
   "codemirror_mode": {
    "name": "ipython",
    "version": 2
   },
   "file_extension": ".py",
   "mimetype": "text/x-python",
   "name": "python",
   "nbconvert_exporter": "python",
   "pygments_lexer": "ipython2",
   "version": "2.7.6"
  }
 },
 "nbformat": 4,
 "nbformat_minor": 0
}