{
 "cells": [
  {
   "cell_type": "code",
   "execution_count": 30,
   "metadata": {
    "collapsed": true
   },
   "outputs": [
    {
     "name": "stdout",
     "output_type": "stream",
     "text": [
      "2020-12-20\n"
     ]
    }
   ],
   "source": [
    "from datetime import datetime\n",
    "import re\n",
    "import json\n",
    "import csv\n",
    "from io import StringIO\n",
    "import csvfile as csvfile\n",
    "from bs4 import BeautifulSoup\n",
    "import requests\n",
    "import pandas\n",
    "\n",
    "url_stats = 'https://uk.finance.yahoo.com/quote/{}/key-statistics?p={}'\n",
    "url_profile = 'https://uk.finance.yahoo.com/quote/{}/profile?p={}'\n",
    "url_financials = 'https://uk.finance.yahoo.com/quote/{}/financials?p={}'\n",
    "companies = ['TSLA', 'MSFT', 'AAPL', 'AMZN', 'FB', 'GOOG', 'NFLX', 'SPOT', 'ZM', 'DBX', 'KO', 'DIS', 'PEP', 'ADBE', 'SONO', 'AMD', 'NVDA', 'INTC', 'PYPL', 'CRSR']\n",
    "stock = 'TSLA'\n",
    "\n",
    "#Statistics\n",
    "response = requests.get(url_stats.format(stock, stock))\n",
    "soup = BeautifulSoup(response.text, 'html.parser')\n",
    "pattern = re.compile(r'\\s--\\sData\\s--\\s')\n",
    "script_data = soup.find('script', text=pattern).contents[0]\n",
    "start = script_data.find(\"context\")-2\n",
    "json_data = json.loads(script_data[start:-12])\n",
    "\n",
    "now = datetime.today().strftime('%Y-%m-%d')\n",
    "print(now)\n",
    "\n",
    "#Historical Stock Data\n",
    "stock_url = 'https://query1.finance.yahoo.com/v7/finance/download/{}?'\n",
    "\n",
    "params = {\n",
    "    'start' : now,\n",
    "    'interval' : '1d',\n",
    "    'range' : '1y',\n",
    "    'events' : 'history'\n",
    "}\n",
    "\n",
    "# https://query1.finance.yahoo.com/v7/finance/download/TSLA?period1=1576852747&period2=1608475147&interval=1d&events=history&includeAdjustedClose=true\n",
    "\n",
    "response = requests.get(stock_url.format(stock), params=params)\n",
    "response.text\n",
    "\n",
    "\n",
    "for s in companies:\n",
    "    response = requests.get(stock_url.format(s), params=params)\n",
    "    response.text\n",
    "\n",
    "    file = StringIO(response.text)\n",
    "    reader = csv.DictReader(file)\n",
    "    with open('./csvs/'+s+'.csv', 'w', newline='') as f:\n",
    "        fieldnames = ['Date', 'Open', 'High', 'Low', 'Close', 'Adj Close', 'Volume']\n",
    "        writer = csv.DictWriter(f, fieldnames=fieldnames)\n",
    "\n",
    "        writer.writeheader()\n",
    "        for row in reader:\n",
    "            writer.writerow({'Date': row['Date'], 'Open': row['Open'], 'High': row['High'], 'Low': row['Low'], 'Close': row['Close'], 'Adj Close': row['Adj Close'], 'Volume': row['Volume']})"
   ]
  }
 ],
 "metadata": {
  "kernelspec": {
   "display_name": "Python 3",
   "language": "python",
   "name": "python3"
  },
  "language_info": {
   "codemirror_mode": {
    "name": "ipython",
    "version": 2
   },
   "file_extension": ".py",
   "mimetype": "text/x-python",
   "name": "python",
   "nbconvert_exporter": "python",
   "pygments_lexer": "ipython2",
   "version": "2.7.6"
  }
 },
 "nbformat": 4,
 "nbformat_minor": 0
}